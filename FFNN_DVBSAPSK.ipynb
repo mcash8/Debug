{
  "nbformat": 4,
  "nbformat_minor": 0,
  "metadata": {
    "colab": {
      "name": "FFNN_DVBSAPSK.ipynb",
      "provenance": [],
      "authorship_tag": "ABX9TyNDU+6x7piCXCq6A4Vb80or"
    },
    "kernelspec": {
      "name": "python3",
      "display_name": "Python 3"
    },
    "language_info": {
      "name": "python"
    }
  },
  "cells": [
    {
      "cell_type": "markdown",
      "source": [
        "Mount Drive"
      ],
      "metadata": {
        "id": "tuIlKYz7DKG0"
      }
    },
    {
      "cell_type": "code",
      "execution_count": 1,
      "metadata": {
        "colab": {
          "base_uri": "https://localhost:8080/"
        },
        "id": "tYeroTPsOIhj",
        "outputId": "81c94310-e120-45ca-f70c-8731b7287aaf"
      },
      "outputs": [
        {
          "output_type": "stream",
          "name": "stdout",
          "text": [
            "Mounted at /content/drive\n"
          ]
        }
      ],
      "source": [
        "from google.colab import drive\n",
        "drive.mount('/content/drive')"
      ]
    },
    {
      "cell_type": "markdown",
      "source": [
        "Imports"
      ],
      "metadata": {
        "id": "zfXYQLRaDNJU"
      }
    },
    {
      "cell_type": "code",
      "source": [
        "import os\n",
        "import scipy.io as spio\n",
        "import math\n",
        "import time\n",
        "import pandas as pd\n",
        "import numpy as np\n",
        "from tensorflow import keras\n",
        "from tensorflow.keras.models import Sequential\n",
        "from tensorflow.keras.layers import Dense, Dropout\n",
        "from tensorflow.keras.optimizers import SGD\n",
        "from tensorflow.keras.losses import MeanSquaredError"
      ],
      "metadata": {
        "id": "7UwzoVFFDJjX"
      },
      "execution_count": null,
      "outputs": []
    },
    {
      "cell_type": "markdown",
      "source": [
        "Train Model"
      ],
      "metadata": {
        "id": "w6J35xgGDdkE"
      }
    },
    {
      "cell_type": "code",
      "source": [
        "\n",
        "\n",
        "\n",
        "start_time = time.time()\n",
        "\n",
        "#parameters\n",
        "num_classes = 2\n",
        "batch_size = 64\n",
        "epochs = 100\n",
        "\n",
        "%cd /content/drive/My Drive/NN\\ Input/debug\n",
        "matname = 'DVBSAPSK_data_23.mat'\n",
        "mat = spio.loadmat(matname, squeeze_me=True)\n",
        "x_train = mat['x_train']\n",
        "#x_train = x_train[0:3]\n",
        "x_valid = mat['val_data']\n",
        "#x_valid = x_valid[0:3]\n",
        "y_valid = mat['val_target']\n",
        "#y_valid = y_valid[0:3]\n",
        "y_train = mat['y_train']\n",
        "\n",
        "matname = 'DVBSAPSK_pred_23.mat'\n",
        "mat = spio.loadmat(matname, squeeze_me=True)\n",
        "x_test = mat['train_data']\n",
        "\n",
        "#cast to float32\n",
        "x_train = x_train.astype('float32')\n",
        "x_valid = x_valid.astype('float32')\n",
        "x_test = x_test.astype('float32') \n",
        "\n",
        "print(x_train.shape, 'train samples')\n",
        "print(x_valid.shape, 'valid samples')\n",
        "\n",
        "print(y_train.shape, 'train labels')\n",
        "print(y_valid.shape, 'valid labels')\n",
        "\n",
        "print('Label Examples:\\n', y_train)\n",
        "print('Input Examples:\\n', x_train)\n",
        "\n",
        "# Define the network\n",
        "model = Sequential()\n",
        "model.add(Dense(50, activation='elu', input_dim=18))\n",
        "model.add(Dense(50, activation='elu'))\n",
        "model.add(Dense(num_classes, activation='tanh'))\n",
        "\n",
        "model.summary()\n",
        "\n",
        "model.compile(loss=keras.metrics.mean_squared_error,\n",
        "            optimizer=SGD(learning_rate=0.1),\n",
        "            metrics=[keras.metrics.RootMeanSquaredError(name='rmse')])\n",
        "\n",
        "history = model.fit(x_train, y_train,\n",
        "                    batch_size=batch_size,\n",
        "                    epochs=epochs,\n",
        "                    verbose=2,\n",
        "                    validation_data=(x_valid, y_valid))\n",
        "\n",
        "elapsedTime = (time.time() - start_time)/60\n",
        "print(\"--- %.2f minutes ---\" % elapsedTime)\n",
        "\n",
        "score = model.evaluate(x_train, y_train, verbose=2)\n",
        "print('Final Training MSE:', score[0])\n",
        "print('Final Training RMSE:', score[1])"
      ],
      "metadata": {
        "id": "Yns5UF56OXqq"
      },
      "execution_count": null,
      "outputs": []
    },
    {
      "cell_type": "markdown",
      "source": [
        "Save Model and Training History"
      ],
      "metadata": {
        "id": "vx7Wu07cDgUN"
      }
    },
    {
      "cell_type": "code",
      "source": [
        "#save model\n",
        "savename = 'DVBSAPSK_100_23.h5'\n",
        "model.save(savename)\n",
        "!cp $savename /content/drive/MyDrive/NN\\ Output/FFNNEq/Saved\\ Models\n",
        "\n",
        "#save history for graphing  \n",
        "hist_df = pd.DataFrame(history.history) \n",
        "\n",
        "# save to csv: \n",
        "hist_csv_file = 'history_DVBSAPSK_100_23.csv'\n",
        "with open(hist_csv_file, mode='w') as f:\n",
        "    hist_df.to_csv(f)\n",
        "\n",
        "!cp $hist_csv_file /content/drive/MyDrive/NN\\ Output/FFNNEq/Saved\\ Models\n",
        "\n",
        "predictions = model.predict(x_test)\n",
        "matname = 'DVBSAPSK_100_23.mat'\n",
        "spio.savemat(matname, {'pred': predictions})\n",
        "\n",
        "!cp $matname /content/drive/MyDrive/NN\\ Output/FFNNEq/Saved\\ Models"
      ],
      "metadata": {
        "id": "GJvhXq_GOcn-"
      },
      "execution_count": 9,
      "outputs": []
    },
    {
      "cell_type": "markdown",
      "source": [
        "Plot losses"
      ],
      "metadata": {
        "id": "4oyc56IMDjcX"
      }
    },
    {
      "cell_type": "code",
      "source": [
        "from pandas import read_csv\n",
        "import matplotlib.pyplot as plt\n",
        "\n",
        "%cd /content/drive/MyDrive/NN\\ Output/FFNNEq/Saved\\ Models\n",
        "hist_csv_file = 'history_DVBSAPSK_100_23.csv'\n",
        "data = read_csv(hist_csv_file)\n",
        "\n",
        "loss_data = data['loss']\n",
        "plt.plot(loss_data)\n",
        "plt.xlabel('Epochs') \n",
        "plt.ylabel('Loss - MSE') \n",
        "plt.title(\"Loss  vs. Epochs\")\n",
        "\n",
        "#save plt\n",
        "plot_name = 'loss_DVBSAPSK_100_23.png'\n",
        "plt.savefig(plot_name)\n",
        "!cp $plot_name /content/drive/MyDrive/NN\\ Output/FFNNEq/Saved\\ Models"
      ],
      "metadata": {
        "colab": {
          "base_uri": "https://localhost:8080/",
          "height": 330
        },
        "id": "B8aSJMafOhDt",
        "outputId": "2de2e0d6-2a20-4199-a9aa-c7edd0e8862d"
      },
      "execution_count": 10,
      "outputs": [
        {
          "output_type": "stream",
          "name": "stdout",
          "text": [
            "/content/drive/MyDrive/NN Output/FFNNEq/Saved Models\n",
            "cp: 'loss_DVBSAPSK_100_23.png' and '/content/drive/MyDrive/NN Output/FFNNEq/Saved Models/loss_DVBSAPSK_100_23.png' are the same file\n"
          ]
        },
        {
          "output_type": "display_data",
          "data": {
            "image/png": "[encoded data removed]",
            "text/plain": [
              "<Figure size 432x288 with 1 Axes>"
            ]
          },
          "metadata": {
            "needs_background": "light"
          }
        }
      ]
    },
    {
      "cell_type": "markdown",
      "source": [
        "Testing random seed generator theory"
      ],
      "metadata": {
        "id": "Yr3Q0O-YCqen"
      }
    },
    {
      "cell_type": "code",
      "source": [
        "#load model \n",
        "%cd /content/drive/My Drive/NN\\ Output\n",
        "model = tf.load_model('DVBSAPSK_100_23.h5') #load from google drive\n",
        "matname = 'DVBSAPSK_pred_23_rngTest.mat'\n",
        "mat = spio.loadmat(matname, squeeze_me=True)\n",
        "x_test = mat['train_data']\n",
        "\n",
        "predictions = model.predict(x_test)\n",
        "matname = 'DVBSAPSK_100_23_rng.mat'\n",
        "spio.savemat(matname, {'pred': predictions})"
      ],
      "metadata": {
        "id": "4iVPS0A2GUCO"
      },
      "execution_count": 12,
      "outputs": []
    }
  ]
}